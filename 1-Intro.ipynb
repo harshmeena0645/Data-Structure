{
 "cells": [
  {
   "cell_type": "markdown",
   "id": "8f719c22-377d-4cca-bef1-d0269d993742",
   "metadata": {},
   "source": [
    "# Why to learn DSA\n",
    "Raise level                   \n",
    "Efficient Programming                \n",
    "Able to solve complex problems            "
   ]
  },
  {
   "cell_type": "markdown",
   "id": "3494a54e-99ef-4d1c-859a-14d131eabde3",
   "metadata": {},
   "source": [
    "# What is importance of Structuring Data\n",
    "Dictionary               \n",
    "Map                  \n",
    "Ledger            "
   ]
  },
  {
   "cell_type": "markdown",
   "id": "d9b782c5-c26c-4727-a918-d47182da4a55",
   "metadata": {},
   "source": [
    "# What is data Structure\n",
    "It is a particular way of storing and organizing data in a computer so that it can be used efficiently."
   ]
  },
  {
   "cell_type": "markdown",
   "id": "6506d29d-a1b3-4848-b70a-cf060a80ac7a",
   "metadata": {},
   "source": [
    "# Where data Structures resides\n",
    "RAM"
   ]
  },
  {
   "cell_type": "markdown",
   "id": "70456368-6101-4898-a06f-0ca7382f877f",
   "metadata": {},
   "source": [
    "# Classification of Data Structure\n",
    "-->Linear data Structure: Array,LL,Stack,Queue                                 \n",
    "-->Non-Linear: Tree,Graph                                    "
   ]
  },
  {
   "cell_type": "markdown",
   "id": "a0ea5c0c-af51-4889-8393-9fd47f60b4cc",
   "metadata": {},
   "source": [
    "# Algorithm\n",
    "Step by Step process of logic "
   ]
  },
  {
   "cell_type": "markdown",
   "id": "79debef5-cbef-49d0-b7bc-d9dc7e35373f",
   "metadata": {},
   "source": [
    "# Prereqisites\n",
    "-->Python:                 \n",
    "\n",
    "        Build-in-types                  \n",
    "        Control Statements                          \n",
    "        Functions                          \n",
    "        Classes and Objects                           \n",
    "        init()                           \n",
    "        Types of Variables and Functions in class             "
   ]
  },
  {
   "cell_type": "code",
   "execution_count": null,
   "id": "17c8530d-798c-40eb-9f30-c5fa20ec814f",
   "metadata": {},
   "outputs": [],
   "source": []
  }
 ],
 "metadata": {
  "kernelspec": {
   "display_name": "Python 3 (ipykernel)",
   "language": "python",
   "name": "python3"
  },
  "language_info": {
   "codemirror_mode": {
    "name": "ipython",
    "version": 3
   },
   "file_extension": ".py",
   "mimetype": "text/x-python",
   "name": "python",
   "nbconvert_exporter": "python",
   "pygments_lexer": "ipython3",
   "version": "3.11.3"
  }
 },
 "nbformat": 4,
 "nbformat_minor": 5
}
