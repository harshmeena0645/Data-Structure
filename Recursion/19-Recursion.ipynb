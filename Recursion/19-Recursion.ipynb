{
 "cells": [
  {
   "cell_type": "markdown",
   "id": "47a6da16",
   "metadata": {},
   "source": [
    "# Recursion"
   ]
  },
  {
   "cell_type": "markdown",
   "id": "6daaef34",
   "metadata": {},
   "source": [
    "### Natural Number"
   ]
  },
  {
   "cell_type": "code",
   "execution_count": 3,
   "id": "dd4bf893",
   "metadata": {},
   "outputs": [
    {
     "name": "stdout",
     "output_type": "stream",
     "text": [
      "1 2 3 4 5 6 7 8 9 10 "
     ]
    }
   ],
   "source": [
    "def printN(n):\n",
    "    if n>0:\n",
    "        printN(n-1)\n",
    "        print(n , end=' ')\n",
    "printN(10)"
   ]
  },
  {
   "cell_type": "markdown",
   "id": "494455ff",
   "metadata": {},
   "source": [
    "### Reverse Natural Number"
   ]
  },
  {
   "cell_type": "code",
   "execution_count": 5,
   "id": "4a584e59",
   "metadata": {},
   "outputs": [
    {
     "name": "stdout",
     "output_type": "stream",
     "text": [
      "10 9 8 7 6 5 4 3 2 1 "
     ]
    }
   ],
   "source": [
    "def printNreverse(n):\n",
    "    if n>0:\n",
    "        print(n,end=' ')\n",
    "        printN(n-1)\n",
    "printNreverse(10)"
   ]
  },
  {
   "cell_type": "markdown",
   "id": "5e54e559",
   "metadata": {},
   "source": [
    "### Odd Number"
   ]
  },
  {
   "cell_type": "code",
   "execution_count": 14,
   "id": "e7b92086",
   "metadata": {},
   "outputs": [
    {
     "name": "stdout",
     "output_type": "stream",
     "text": [
      "1 3 5 7 9 11 13 15 17 19 "
     ]
    }
   ],
   "source": [
    "def printNodd(n):\n",
    "    if n>0:\n",
    "        printNodd(n-1)\n",
    "        print(2*n-1,end=' ')\n",
    "printNodd(10)"
   ]
  },
  {
   "cell_type": "markdown",
   "id": "2c256196",
   "metadata": {},
   "source": [
    "### Reverse Odd Number"
   ]
  },
  {
   "cell_type": "code",
   "execution_count": null,
   "id": "4cb1c0ab",
   "metadata": {},
   "outputs": [],
   "source": [
    "def printNoddReverse(n):\n",
    "    if n>0:\n",
    "        print(2*n-1,end=' ')\n",
    "        printNoddReverse(n-1)\n",
    "printNoddReverse(10)"
   ]
  },
  {
   "cell_type": "markdown",
   "id": "7f2ac4b8",
   "metadata": {},
   "source": [
    "### Even Number"
   ]
  },
  {
   "cell_type": "code",
   "execution_count": 17,
   "id": "dc4a7e68",
   "metadata": {},
   "outputs": [
    {
     "name": "stdout",
     "output_type": "stream",
     "text": [
      "2 4 6 8 10 12 14 16 18 20 "
     ]
    }
   ],
   "source": [
    "def printNeven(n):\n",
    "    if n>0:\n",
    "        printNeven(n-1)\n",
    "        print(2*n,end=' ')\n",
    "printNeven(10)"
   ]
  },
  {
   "cell_type": "markdown",
   "id": "a9e0d49c",
   "metadata": {},
   "source": [
    "### Reverse Even Number"
   ]
  },
  {
   "cell_type": "code",
   "execution_count": 18,
   "id": "15dd9b45",
   "metadata": {},
   "outputs": [
    {
     "name": "stdout",
     "output_type": "stream",
     "text": [
      "20 18 16 14 12 10 8 6 4 2 "
     ]
    }
   ],
   "source": [
    "def printNevenReverse(n):\n",
    "    if n>0:\n",
    "        print(2*n,end=' ')\n",
    "        printNevenReverse(n-1)\n",
    "printNevenReverse(10)"
   ]
  },
  {
   "cell_type": "markdown",
   "id": "6024ca92",
   "metadata": {},
   "source": [
    "### Sum of N natural Number"
   ]
  },
  {
   "cell_type": "code",
   "execution_count": 23,
   "id": "e1c22ae2",
   "metadata": {},
   "outputs": [
    {
     "name": "stdout",
     "output_type": "stream",
     "text": [
      "Sum is: 55\n"
     ]
    }
   ],
   "source": [
    "def SumN(n):\n",
    "    if n==1:\n",
    "        return 1\n",
    "    return n+SumN(n-1)\n",
    "print(\"Sum is:\", SumN(10))"
   ]
  },
  {
   "cell_type": "markdown",
   "id": "18fc9209",
   "metadata": {},
   "source": [
    "### Sum of N Odd Natural Number"
   ]
  },
  {
   "cell_type": "code",
   "execution_count": 40,
   "id": "0ca3ff32",
   "metadata": {},
   "outputs": [
    {
     "name": "stdout",
     "output_type": "stream",
     "text": [
      "Sum is: 100\n"
     ]
    }
   ],
   "source": [
    "def SumNodd(n):\n",
    "    if n==1:\n",
    "        return 1\n",
    "    return 2*n-1 + SumNodd(n-1)\n",
    "print(\"Sum is:\", SumNodd(10))"
   ]
  },
  {
   "cell_type": "markdown",
   "id": "3030fe44",
   "metadata": {},
   "source": [
    "### Sum of N Even Natural Number"
   ]
  },
  {
   "cell_type": "code",
   "execution_count": 39,
   "id": "bc92ed1d",
   "metadata": {},
   "outputs": [
    {
     "name": "stdout",
     "output_type": "stream",
     "text": [
      "Sum is: 110\n"
     ]
    }
   ],
   "source": [
    "def SumNeven(n):\n",
    "    if n==1:\n",
    "        return 2\n",
    "    return 2*n + SumNeven(n-1)\n",
    "print(\"Sum is:\", SumNeven(10))"
   ]
  },
  {
   "cell_type": "markdown",
   "id": "b3644132",
   "metadata": {},
   "source": [
    "### Factorial of Number"
   ]
  },
  {
   "cell_type": "code",
   "execution_count": 37,
   "id": "77953677",
   "metadata": {},
   "outputs": [
    {
     "name": "stdout",
     "output_type": "stream",
     "text": [
      "Factorial is: 120\n"
     ]
    }
   ],
   "source": [
    "def fact(n):\n",
    "    if n==0:\n",
    "        return 1\n",
    "    return n * fact(n-1)\n",
    "print(\"Factorial is:\", fact(5))"
   ]
  },
  {
   "cell_type": "markdown",
   "id": "21b1a4fd",
   "metadata": {},
   "source": [
    "### Sum of Squares of N Natural Number"
   ]
  },
  {
   "cell_type": "code",
   "execution_count": 38,
   "id": "94e4b07f",
   "metadata": {},
   "outputs": [
    {
     "name": "stdout",
     "output_type": "stream",
     "text": [
      "Factorial is: 55\n"
     ]
    }
   ],
   "source": [
    "def sumNsquare(n):\n",
    "    if n==1:\n",
    "        return 1\n",
    "    return n*n + sumNsquare(n-1)\n",
    "print(\"Factorial is:\", sumNsquare(5))"
   ]
  },
  {
   "cell_type": "code",
   "execution_count": null,
   "id": "f385baeb",
   "metadata": {},
   "outputs": [],
   "source": []
  }
 ],
 "metadata": {
  "kernelspec": {
   "display_name": "Python 3 (ipykernel)",
   "language": "python",
   "name": "python3"
  },
  "language_info": {
   "codemirror_mode": {
    "name": "ipython",
    "version": 3
   },
   "file_extension": ".py",
   "mimetype": "text/x-python",
   "name": "python",
   "nbconvert_exporter": "python",
   "pygments_lexer": "ipython3",
   "version": "3.11.3"
  }
 },
 "nbformat": 4,
 "nbformat_minor": 5
}
