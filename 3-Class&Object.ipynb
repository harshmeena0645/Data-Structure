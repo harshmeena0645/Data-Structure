{
 "cells": [
  {
   "cell_type": "markdown",
   "id": "a22d1ded-412a-4393-b58c-78f7aca4d2bb",
   "metadata": {},
   "source": [
    "Class  --> Common Noun                               \n",
    "Object --> Proper Noun                       "
   ]
  },
  {
   "cell_type": "markdown",
   "id": "114dcee2-c9ee-487f-a433-f12e888ec7fb",
   "metadata": {},
   "source": [
    "# Class\n",
    "\n",
    "--> Class is a description of an Object                                 \n",
    "--> Group of Variable(Properties) and Function(Methods)                         \n",
    "\n",
    "--> Variable & Fuctions is called Attributes                                 \n",
    "        Class Test:\n",
    "                    x=5                                  \n",
    "                    def f1():                       \n",
    "        (So x and f1 are attributes)          \n",
    "        \n",
    "--> Defining class is creating a data type               "
   ]
  },
  {
   "cell_type": "markdown",
   "id": "3f43dd28-1af3-49d4-b063-80aa24631e8f",
   "metadata": {},
   "source": [
    "# Object\n",
    "--> Object is an instance of Class             \n",
    "\n",
    "--> Two Types:                 \n",
    "1.Class object___(One class had 1 class object) (Automaticaly Made)(Class object variable = Static variable)      \n",
    "2.Instance object___(One class had 1+ instance object)                  \n",
    "\n",
    "-->In the Class only class object variable are crated         \n",
    "-->But when we use init then it is Instance Object Variable             \n",
    "\n",
    "t1=Test()                              \n",
    "t2=Test()                                   \n",
    "(So t1 and t2 instance object)             \n",
    "\n",
    "Method:              \n",
    "1.init Method                  \n",
    "2.Instance Method            \n",
    "3.Static Method           \n",
    "4.Class Method         \n",
    "\n",
    "class test():               \n",
    "def(self):               \n",
    "@staticmethod__(This is Decorators)                        \n",
    "def f2():                   \n",
    "@classmethod__(This is Decorators)                  \n",
    "def f3(cls):                    \n",
    "\n",
    "--> Test    (represent class object)                              \n",
    "--> Test()  (Writing class object)                "
   ]
  },
  {
   "cell_type": "markdown",
   "id": "edb38209-e7f2-4bf4-bc2a-07b2a46cb58d",
   "metadata": {},
   "source": [
    "# Encapsulation\n",
    "Act of combining properties and method related same object"
   ]
  },
  {
   "cell_type": "code",
   "execution_count": 1,
   "id": "c98c75ce-c28a-41d6-83f0-412c45cb5ea6",
   "metadata": {},
   "outputs": [
    {
     "name": "stdout",
     "output_type": "stream",
     "text": [
      "2 Ankush 1000\n",
      "1 Harsh 2000\n"
     ]
    }
   ],
   "source": [
    "class Employee:\n",
    "    def __init__(self,emp_id=None,name=None,salary=None):\n",
    "        self.emp_id=emp_id\n",
    "        self.name=name\n",
    "        self.salary=salary\n",
    "    def set_emp_id(self,emp_id):\n",
    "        self.emp_id=emp_id\n",
    "    def set_name(self,name):\n",
    "        self.name=name\n",
    "    def set_salary(self,salary):\n",
    "        self.salary=salary\n",
    "    def get_emp_id(self):\n",
    "        return self.emp_id\n",
    "    def get_name(self):\n",
    "        return self.name\n",
    "    def get_salary(self):\n",
    "        return self.salary\n",
    "e1=Employee()\n",
    "e1.set_emp_id(2)\n",
    "e1.set_name(\"Ankush\")\n",
    "e1.set_salary(1000)\n",
    "e2=Employee(1,\"Harsh\",2000)\n",
    "print(e1.get_emp_id(),e1.get_name(),e1.get_salary())\n",
    "print(e2.get_emp_id(),e2.get_name(),e2.get_salary())\n"
   ]
  }
 ],
 "metadata": {
  "kernelspec": {
   "display_name": "Python 3 (ipykernel)",
   "language": "python",
   "name": "python3"
  },
  "language_info": {
   "codemirror_mode": {
    "name": "ipython",
    "version": 3
   },
   "file_extension": ".py",
   "mimetype": "text/x-python",
   "name": "python",
   "nbconvert_exporter": "python",
   "pygments_lexer": "ipython3",
   "version": "3.11.3"
  }
 },
 "nbformat": 4,
 "nbformat_minor": 5
}
