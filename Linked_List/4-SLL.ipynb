{
 "cells": [
  {
   "cell_type": "markdown",
   "id": "0af5ba96-bff2-4802-bc48-117b4e012878",
   "metadata": {},
   "source": [
    "# List\n",
    "It is a linear collection of data items also known as List Item\n",
    "\n",
    "Ex-List of Marks-->30,40,53,54                           \n",
    "Ex-List of city names-->\"Jaipur\",\"Goa\"                         \n",
    "Ex-List of Employees-->100,\"Atul\",25000           "
   ]
  },
  {
   "cell_type": "markdown",
   "id": "555b72f1-3f8b-4ff4-ada6-75b5324abd08",
   "metadata": {},
   "source": [
    "# What is Node?"
   ]
  },
  {
   "cell_type": "markdown",
   "id": "0fff7638-4dd0-4488-840d-4ec435f5d9a0",
   "metadata": {},
   "source": [
    "# SLL\n",
    "### Operations          \n",
    "insertion at start()-------->#No Traversing                  \n",
    "insertion at end()---------->#Traversing              \n",
    "deletion at start()--------->#No Traversing          \n",
    "deletion at end()----------->#Traversing           \n",
    "is_empty()               \n",
    "traverse()           "
   ]
  },
  {
   "cell_type": "code",
   "execution_count": 11,
   "id": "1bf220dd-9828-4496-92c6-0329972ae0b5",
   "metadata": {},
   "outputs": [
    {
     "name": "stdout",
     "output_type": "stream",
     "text": [
      "10 20 30 40 \n",
      "10 20 40 \n",
      "10 20 40 "
     ]
    }
   ],
   "source": [
    "class Node:\n",
    "    def __init__(self,item=None,next=None):\n",
    "        self.item=item\n",
    "        self.next=next\n",
    "\n",
    "class SLL:\n",
    "    def __init__(self,start=None):\n",
    "        self.start=start\n",
    "    def is_empty(self):\n",
    "        return self.start==None\n",
    "    def insert_at_start(self,data):\n",
    "        n=Node(data,self.start)\n",
    "        self.start=n\n",
    "    def insert_at_last(self,data):\n",
    "        n=Node(data)\n",
    "        if not self.is_empty():\n",
    "            temp=self.start\n",
    "            while temp.next is not None:\n",
    "                temp=temp.next\n",
    "            temp.next=n\n",
    "        else:\n",
    "            self.start=n\n",
    "    def search(self,data):\n",
    "        temp=self.start\n",
    "        while temp is not None:\n",
    "            if temp.item==data:\n",
    "                return temp\n",
    "            temp=temp.next\n",
    "        return None\n",
    "    def insert_after(self,temp,data):\n",
    "        if temp is not None:\n",
    "            n=Node(data,temp.next)\n",
    "            temp.next=n\n",
    "    def print_list(self):\n",
    "        temp=self.start\n",
    "        while temp is not None:\n",
    "            print(temp.item,end=' ')\n",
    "            temp=temp.next\n",
    "    def delete_first(self):\n",
    "        if self.start is not None:\n",
    "            self.start=self.start.next\n",
    "    def delete_last(self):\n",
    "        if self.start is None:\n",
    "            pass\n",
    "        elif self.start.next is None:\n",
    "            self.start=None\n",
    "        else:\n",
    "            temp=self.start\n",
    "            while temp.next.next is not None:\n",
    "                    temp=temp.next\n",
    "            temp.next=None\n",
    "    def delete_item(self,data):\n",
    "        if self.start is None:\n",
    "            pass\n",
    "        elif self.start.next is None:\n",
    "            if self.start.item==data:\n",
    "                self.start=None\n",
    "        else:\n",
    "            temp=self.start\n",
    "            if temp.item==data:\n",
    "                self.start=temp.next\n",
    "            else:\n",
    "                while temp.next is not None:\n",
    "                    if temp.next.item==data:\n",
    "                        temp.next=temp.next.next\n",
    "                        break\n",
    "                    temp=temp.next\n",
    "    def __iter__(self):\n",
    "        return SLLIterator(self.start)\n",
    "\n",
    "class SLLIterator:\n",
    "    def __init__(self,start):\n",
    "        self.current=start\n",
    "    def __iter__(self):\n",
    "        return self\n",
    "    def __next__(self):\n",
    "        if not self.current:\n",
    "            raise StopIteration\n",
    "        data=self.current.item\n",
    "        self.current=self.current.next\n",
    "        return data\n",
    "                    \n",
    "\n",
    "mylist=SLL()\n",
    "mylist.insert_at_start(20)\n",
    "mylist.insert_at_start(10)\n",
    "mylist.insert_at_last(40)\n",
    "mylist.insert_after(mylist.search(20),30)\n",
    "mylist.print_list()\n",
    "print()\n",
    "\n",
    "mylist.delete_item(30)\n",
    "mylist.print_list()\n",
    "print()\n",
    "\n",
    "for i in mylist:\n",
    "    print(i,end=' ')"
   ]
  },
  {
   "cell_type": "code",
   "execution_count": null,
   "id": "703301ce",
   "metadata": {},
   "outputs": [],
   "source": []
  }
 ],
 "metadata": {
  "kernelspec": {
   "display_name": "Python 3 (ipykernel)",
   "language": "python",
   "name": "python3"
  },
  "language_info": {
   "codemirror_mode": {
    "name": "ipython",
    "version": 3
   },
   "file_extension": ".py",
   "mimetype": "text/x-python",
   "name": "python",
   "nbconvert_exporter": "python",
   "pygments_lexer": "ipython3",
   "version": "3.11.3"
  }
 },
 "nbformat": 4,
 "nbformat_minor": 5
}
