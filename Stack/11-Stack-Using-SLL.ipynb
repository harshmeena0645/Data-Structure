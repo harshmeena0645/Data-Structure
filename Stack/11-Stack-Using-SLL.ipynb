{
 "cells": [
  {
   "cell_type": "code",
   "execution_count": 13,
   "id": "0e5942f5",
   "metadata": {},
   "outputs": [
    {
     "ename": "SyntaxError",
     "evalue": "invalid decimal literal (3807016165.py, line 1)",
     "output_type": "error",
     "traceback": [
      "\u001b[1;36m  Cell \u001b[1;32mIn[13], line 1\u001b[1;36m\u001b[0m\n\u001b[1;33m    from 4_SLL import SLL  # Assuming SLL is the class you need\u001b[0m\n\u001b[1;37m          ^\u001b[0m\n\u001b[1;31mSyntaxError\u001b[0m\u001b[1;31m:\u001b[0m invalid decimal literal\n"
     ]
    }
   ],
   "source": [
    "from 4_SLL import *\n",
    "# you comment out all the run code which not in class\n",
    "\n",
    "class Stack:\n",
    "    def __init__(self):\n",
    "        self.mylist=SLL()\n",
    "        self.item_count=0\n",
    "    def is_empty(self):\n",
    "        return self.mylist.is_empty()\n",
    "    def push (self,data):\n",
    "        self.mylist.insert_at_start(data)\n",
    "        self.item_count+=1\n",
    "    def pop(self):\n",
    "        if not self.is_empty():\n",
    "            self.mylist.delete_first()\n",
    "            self.item_count-=1\n",
    "    def peek(self):\n",
    "        if not self.is_empty():\n",
    "            return self.mylist.start.item\n",
    "    def size(self):\n",
    "        return self.item_count\n",
    "\n",
    "s=Stack()\n",
    "s.push(10)\n",
    "s.push(20)\n",
    "s.push(30)\n",
    "print(\"Top Element is=\",s.peek())\n",
    "s.pop()\n",
    "print(\"Top Element is=\",s.peek())\n",
    "print()\n",
    "\n",
    "# Output:\n",
    "#     Top Element is= 30\n",
    "#     Top Element is= 20"
   ]
  },
  {
   "cell_type": "code",
   "execution_count": null,
   "id": "3432911a",
   "metadata": {},
   "outputs": [],
   "source": []
  }
 ],
 "metadata": {
  "kernelspec": {
   "display_name": "Python 3 (ipykernel)",
   "language": "python",
   "name": "python3"
  },
  "language_info": {
   "codemirror_mode": {
    "name": "ipython",
    "version": 3
   },
   "file_extension": ".py",
   "mimetype": "text/x-python",
   "name": "python",
   "nbconvert_exporter": "python",
   "pygments_lexer": "ipython3",
   "version": "3.11.3"
  }
 },
 "nbformat": 4,
 "nbformat_minor": 5
}
