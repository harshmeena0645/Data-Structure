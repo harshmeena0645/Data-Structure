{
 "cells": [
  {
   "cell_type": "markdown",
   "id": "3d97b105",
   "metadata": {},
   "source": [
    "# Stack\n",
    "LIFO\n",
    "\n",
    "### Operation on Stack\n",
    "Push()           \n",
    "Pop()     \n",
    "is_empty()        \n",
    "peek()   \n",
    "size()          \n",
    " \n",
    "### Real World Example\n",
    "1. Travelling Bag\n",
    "2. Bread Packet\n",
    "\n",
    "### Implementation of Stack\n",
    "1. Using list\n",
    "2. by exending list class\n",
    "3. using SLL class\n",
    "4. by extending SLL class"
   ]
  },
  {
   "cell_type": "code",
   "execution_count": 2,
   "id": "f49e4ee3",
   "metadata": {},
   "outputs": [
    {
     "name": "stdout",
     "output_type": "stream",
     "text": [
      "Top element is: 30\n",
      "Removed element is: 30\n",
      "Top element is: 20\n"
     ]
    },
    {
     "data": {
      "text/plain": [
       "2"
      ]
     },
     "execution_count": 2,
     "metadata": {},
     "output_type": "execute_result"
    }
   ],
   "source": [
    "class Stack:\n",
    "    def __init__(self):\n",
    "        self.items=[]\n",
    "    def is_empty(self):\n",
    "        return len(self.items)==0\n",
    "    def push(self,data):\n",
    "        self.items.append(data)\n",
    "    def pop(self):\n",
    "        if not self.is_empty():\n",
    "            return self.items.pop()\n",
    "        else:\n",
    "            raise IndexError(\"Stack is Empty\")\n",
    "    def peek(self):\n",
    "        if not self.is_empty():\n",
    "            return self.items[-1]\n",
    "        else:\n",
    "            raise IndexError(\"Stack is Empty\")\n",
    "    def size(self):\n",
    "        return len(self.items)\n",
    "    \n",
    "s1=Stack()\n",
    "s1.push(10)\n",
    "s1.push(20)\n",
    "s1.push(30)\n",
    "print(\"Top element is:\",s1.peek())\n",
    "print(\"Removed element is:\",s1.pop())\n",
    "print(\"Top element is:\",s1.peek())\n",
    "s1.size()"
   ]
  },
  {
   "cell_type": "code",
   "execution_count": null,
   "id": "6219ddad",
   "metadata": {},
   "outputs": [],
   "source": []
  }
 ],
 "metadata": {
  "kernelspec": {
   "display_name": "Python 3 (ipykernel)",
   "language": "python",
   "name": "python3"
  },
  "language_info": {
   "codemirror_mode": {
    "name": "ipython",
    "version": 3
   },
   "file_extension": ".py",
   "mimetype": "text/x-python",
   "name": "python",
   "nbconvert_exporter": "python",
   "pygments_lexer": "ipython3",
   "version": "3.11.3"
  }
 },
 "nbformat": 4,
 "nbformat_minor": 5
}
