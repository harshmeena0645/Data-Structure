{
 "cells": [
  {
   "cell_type": "code",
   "execution_count": 1,
   "id": "fec3bebb",
   "metadata": {},
   "outputs": [
    {
     "ename": "SyntaxError",
     "evalue": "invalid decimal literal (2355962790.py, line 1)",
     "output_type": "error",
     "traceback": [
      "\u001b[1;36m  Cell \u001b[1;32mIn[1], line 1\u001b[1;36m\u001b[0m\n\u001b[1;33m    from 4_SLL import *\u001b[0m\n\u001b[1;37m          ^\u001b[0m\n\u001b[1;31mSyntaxError\u001b[0m\u001b[1;31m:\u001b[0m invalid decimal literal\n"
     ]
    }
   ],
   "source": [
    "from 4_SLL import *\n",
    "# you comment out all the run code which not in class\n",
    "\n",
    "class Stack(SLL):\n",
    "    def __init__(self):\n",
    "        super().__init__()\n",
    "        self.item_count=0\n",
    "    def is_empty(self):\n",
    "        return super().is_empty()\n",
    "    def push (self,data):\n",
    "        self.insert_at_start(data)\n",
    "    def pop(self):\n",
    "        if not self.is_empty():\n",
    "            self.delete_first()\n",
    "        else:\n",
    "            raise IndexError(\"Stack Underflow\")\n",
    "    def peek(self):\n",
    "        if not self.is_empty():\n",
    "            return self.start.item\n",
    "        else:\n",
    "            raise IndexError(\"Stack UnderFlow\")\n",
    "    def size(self):\n",
    "        return self.item_count\n",
    "\n",
    "s1=Stack()\n",
    "s1.push(10)\n",
    "s1.push(20)\n",
    "s1.push(30)\n",
    "print(\"Top Element on Stack=\",s1.peek())\n",
    "s1.pop()\n",
    "print(\"Top Element on Stack=\",s1.peek())\n",
    "print()"
   ]
  },
  {
   "cell_type": "code",
   "execution_count": null,
   "id": "f5b78d2a",
   "metadata": {},
   "outputs": [],
   "source": []
  }
 ],
 "metadata": {
  "kernelspec": {
   "display_name": "Python 3 (ipykernel)",
   "language": "python",
   "name": "python3"
  },
  "language_info": {
   "codemirror_mode": {
    "name": "ipython",
    "version": 3
   },
   "file_extension": ".py",
   "mimetype": "text/x-python",
   "name": "python",
   "nbconvert_exporter": "python",
   "pygments_lexer": "ipython3",
   "version": "3.11.3"
  }
 },
 "nbformat": 4,
 "nbformat_minor": 5
}
