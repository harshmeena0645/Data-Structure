{
 "cells": [
  {
   "cell_type": "code",
   "execution_count": 5,
   "id": "7c172484",
   "metadata": {},
   "outputs": [
    {
     "name": "stdout",
     "output_type": "stream",
     "text": [
      "Total Element in Stack= 3\n",
      "Top Element on Stack is= 30\n",
      "Poped Element is= 30\n",
      "Total Element in the Stack is= 2\n",
      "Top Element on Stack is= 20\n",
      "\n"
     ]
    }
   ],
   "source": [
    "class Node:\n",
    "    def __init__(self,item=None,next=None):\n",
    "        self.item=item\n",
    "        self.next=next\n",
    "class Stack:\n",
    "    def __init__(self,start=None):\n",
    "        self.start=start\n",
    "        self.item_count=0\n",
    "    def is_empty(self):\n",
    "        return self.start==None\n",
    "    def push(self,data):\n",
    "        n=Node(data,self.start)\n",
    "        self.start=n\n",
    "        self.item_count+=1\n",
    "    def pop(self):\n",
    "        if not self.is_empty():\n",
    "            data=self.start.item\n",
    "            self.start=self.start.next\n",
    "            self.item_count-=1\n",
    "            return data\n",
    "        else:\n",
    "            raise IndexError(\"Stack is Empty\")\n",
    "    def peek(self):\n",
    "        if not self.is_empty():\n",
    "            return self.start.item\n",
    "        else:\n",
    "            return self.is_empty()\n",
    "    def size(self):\n",
    "        return self.item_count\n",
    "    \n",
    "s1=Stack()\n",
    "s1.push(10)\n",
    "s1.push(20)\n",
    "s1.push(30)\n",
    "print(\"Total Element in Stack=\",s1.size())\n",
    "print(\"Top Element on Stack is=\",s1.peek())\n",
    "print(\"Poped Element is=\",s1.pop())\n",
    "print(\"Total Element in the Stack is=\",s1.size())\n",
    "print(\"Top Element on Stack is=\",s1.peek())\n",
    "print()"
   ]
  },
  {
   "cell_type": "code",
   "execution_count": null,
   "id": "09e3470f",
   "metadata": {},
   "outputs": [],
   "source": []
  }
 ],
 "metadata": {
  "kernelspec": {
   "display_name": "Python 3 (ipykernel)",
   "language": "python",
   "name": "python3"
  },
  "language_info": {
   "codemirror_mode": {
    "name": "ipython",
    "version": 3
   },
   "file_extension": ".py",
   "mimetype": "text/x-python",
   "name": "python",
   "nbconvert_exporter": "python",
   "pygments_lexer": "ipython3",
   "version": "3.11.3"
  }
 },
 "nbformat": 4,
 "nbformat_minor": 5
}
