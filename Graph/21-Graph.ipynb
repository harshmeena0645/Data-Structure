{
 "cells": [
  {
   "cell_type": "markdown",
   "id": "ec74ef6b",
   "metadata": {},
   "source": [
    "# Graph"
   ]
  },
  {
   "cell_type": "markdown",
   "id": "c2940098",
   "metadata": {},
   "source": [
    "### Adjacency Matrix Implementation of Graph"
   ]
  },
  {
   "cell_type": "code",
   "execution_count": 3,
   "id": "2dc8b5d4",
   "metadata": {},
   "outputs": [
    {
     "name": "stdout",
     "output_type": "stream",
     "text": [
      "0 1 0 0 0\n",
      "1 0 1 1 0\n",
      "0 1 0 1 0\n",
      "0 1 1 0 1\n",
      "0 0 0 1 0\n"
     ]
    }
   ],
   "source": [
    "class Graph:\n",
    "    def __init__(self,vno):\n",
    "        self.vertex_count=vno\n",
    "        self.adj_matrix=[ [0]*vno for i in range(vno)]\n",
    "    def add_edge(self,u,v,weight=1):\n",
    "        if 0<=u<self.vertex_count and 0<=v<self.vertex_count:\n",
    "            self.adj_matrix[u][v]=weight\n",
    "            self.adj_matrix[v][u]=weight\n",
    "        else:\n",
    "            print(\"Invalid Vertex\")\n",
    "    def remove_edge(self,u,v):\n",
    "        if 0<=u<self.vertex_count and 0<=v<self.vertex_count:\n",
    "            self.adj_matrix[u][v]=0\n",
    "            self.adj_matrix[v][u]=0\n",
    "        else:\n",
    "            print(\"Invalid Vertex\")\n",
    "    def has_edge(self,u,v):\n",
    "        if 0<=u<self.vertex_count and 0<=v<self.vertex_count:\n",
    "            return self.adj_matrix[u][v]!=0\n",
    "        else:\n",
    "            print(\"Invalid Vertex\")\n",
    "    def print_adj_matrix(self):\n",
    "        for row_list in self.adj_matrix:\n",
    "            print(\" \".join(map(str,row_list)))\n",
    "g=Graph(5)\n",
    "g.add_edge(0,1)\n",
    "g.add_edge(1,2)\n",
    "g.add_edge(1,3)\n",
    "g.add_edge(2,3)\n",
    "g.add_edge(3,4)\n",
    "g.print_adj_matrix()"
   ]
  },
  {
   "cell_type": "markdown",
   "id": "2c67bc85",
   "metadata": {},
   "source": [
    "### Adjacency List Implementation of Graph"
   ]
  },
  {
   "cell_type": "code",
   "execution_count": null,
   "id": "308122ac",
   "metadata": {},
   "outputs": [],
   "source": [
    "class Graph:\n",
    "    def __init__(self,vno):\n",
    "        self.vertex_count=vno\n",
    "        self.adj_list{v:[] for i in range(vno)}\n",
    "    def add_edge(self,u,v,weight=1):\n",
    "        if 0<=u<self.vertex_count and 0<=v<self.vertex_count:\n",
    "            self.adj_list[u].append((v,weight))\n",
    "            self.adj_list[v].append((u,weight))\n",
    "        else:\n",
    "            print(\"Invalid Vertices\")\n",
    "    def remove_edge(self,u,v):\n",
    "        if 0<=u<self.vertex_count and 0<=v<self.vertex_count:\n",
    "            self.adj_list[u]=[(vertex,weight) for vertex,weight in self.adj_list[u] if vertex!=v]\n",
    "            self.adj_list[v]=[(vertex,weight) for vertex,weight in self.adj_list[v] if vertex!=u]\n",
    "        else:\n",
    "            print(\"Invalid Vertices\")\n",
    "    def has_edge(self,u,v):\n",
    "        if 0<=u<self.vertex_count and 0<=v<self.vertex_count:\n",
    "            return any(vertex==v for vertex,x in self.adj_list[u])\n",
    "        else:\n",
    "            print(\"Invalid Vertices\")\n",
    "            return False\n",
    "    def print_adj_list(self):\n",
    "        for vertex,n in self.adj_list.items():\n",
    "            print(\"V\".vertex,\":\",n)\n",
    "g=Graph(5)\n",
    "g.add_edge(0,1)\n",
    "g.add_edge(1,2)\n",
    "g.add_edge(1,3)\n",
    "g.add_edge(2,4)\n",
    "g.add_edge(3,4)\n",
    "g.print_adj_list()"
   ]
  },
  {
   "cell_type": "markdown",
   "id": "714fee81",
   "metadata": {},
   "source": [
    "### Graph Traversal: BFS & DFS"
   ]
  },
  {
   "cell_type": "code",
   "execution_count": 6,
   "id": "dafad638",
   "metadata": {},
   "outputs": [
    {
     "name": "stdout",
     "output_type": "stream",
     "text": [
      "BFS Traversal: 0 1 2 3 4 5 6 \n",
      "DFS Traversal: 0 1 3 4 2 5 6 "
     ]
    }
   ],
   "source": [
    "from collections import deque\n",
    "\n",
    "def bfs(graph, start):\n",
    "    visited = set()\n",
    "    queue = deque([start])\n",
    "    \n",
    "    while queue:\n",
    "        node = queue.popleft()\n",
    "        if node not in visited:\n",
    "            print(node, end=\" \")\n",
    "            visited.add(node)\n",
    "            queue.extend(graph[node])\n",
    "def dfs(graph, node, visited=set()):\n",
    "    if node not in visited:\n",
    "        print(node, end=\" \")\n",
    "        visited.add(node)\n",
    "        for neighbor in graph[node]:\n",
    "            dfs(graph, neighbor, visited)\n",
    "\n",
    "# Example Graph (Adjacency List)\n",
    "graph = {\n",
    "    0: [1, 2],\n",
    "    1: [0, 3, 4],\n",
    "    2: [0, 5, 6],\n",
    "    3: [1],\n",
    "    4: [1],\n",
    "    5: [2],\n",
    "    6: [2]\n",
    "}\n",
    "\n",
    "print(\"BFS Traversal: \", end=\"\")\n",
    "bfs(graph, 0)\n",
    "\n",
    "print(\"\\nDFS Traversal: \", end=\"\")\n",
    "dfs(graph, 0)"
   ]
  },
  {
   "cell_type": "markdown",
   "id": "90ec78d8",
   "metadata": {},
   "source": [
    "### Shortest Path: Dijkstra’s Algorithm"
   ]
  },
  {
   "cell_type": "code",
   "execution_count": 7,
   "id": "77ee8c05",
   "metadata": {},
   "outputs": [
    {
     "name": "stdout",
     "output_type": "stream",
     "text": [
      "\n",
      "Shortest Path from Node 0: {0: 0, 1: 3, 2: 1, 3: 4}\n"
     ]
    }
   ],
   "source": [
    "import heapq\n",
    "\n",
    "def dijkstra(graph, start):\n",
    "    pq = [(0, start)]  # (cost, node)\n",
    "    distances = {node: float('inf') for node in graph}\n",
    "    distances[start] = 0\n",
    "\n",
    "    while pq:\n",
    "        current_distance, node = heapq.heappop(pq)\n",
    "        \n",
    "        if current_distance > distances[node]:\n",
    "            continue\n",
    "        \n",
    "        for neighbor, weight in graph[node]:\n",
    "            distance = current_distance + weight\n",
    "            if distance < distances[neighbor]:\n",
    "                distances[neighbor] = distance\n",
    "                heapq.heappush(pq, (distance, neighbor))\n",
    "\n",
    "    return distances\n",
    "\n",
    "# Example Graph (Adjacency List with Weights)\n",
    "graph = {\n",
    "    0: [(1, 4), (2, 1)],\n",
    "    1: [(3, 1)],\n",
    "    2: [(1, 2), (3, 5)],\n",
    "    3: []\n",
    "}\n",
    "\n",
    "print(\"\\nShortest Path from Node 0:\", dijkstra(graph, 0))\n"
   ]
  },
  {
   "cell_type": "markdown",
   "id": "5a79d0fd",
   "metadata": {},
   "source": [
    "### Minimum Spanning Tree (MST): Kruskal’s Algorithm"
   ]
  },
  {
   "cell_type": "code",
   "execution_count": 8,
   "id": "07ef4dee",
   "metadata": {},
   "outputs": [
    {
     "name": "stdout",
     "output_type": "stream",
     "text": [
      "\n",
      "Minimum Spanning Tree: [(2, 3, 4), (0, 3, 5), (0, 1, 10)]\n",
      "Total Cost: 19\n"
     ]
    }
   ],
   "source": [
    "class DisjointSet:\n",
    "    def __init__(self, n):\n",
    "        self.parent = list(range(n))\n",
    "        self.rank = [0] * n\n",
    "\n",
    "    def find(self, node):\n",
    "        if self.parent[node] != node:\n",
    "            self.parent[node] = self.find(self.parent[node])\n",
    "        return self.parent[node]\n",
    "\n",
    "    def union(self, u, v):\n",
    "        root_u = self.find(u)\n",
    "        root_v = self.find(v)\n",
    "\n",
    "        if root_u != root_v:\n",
    "            if self.rank[root_u] > self.rank[root_v]:\n",
    "                self.parent[root_v] = root_u\n",
    "            elif self.rank[root_u] < self.rank[root_v]:\n",
    "                self.parent[root_u] = root_v\n",
    "            else:\n",
    "                self.parent[root_v] = root_u\n",
    "                self.rank[root_u] += 1\n",
    "\n",
    "def kruskal(edges, n):\n",
    "    edges.sort(key=lambda x: x[2])  # Sort by weight\n",
    "    ds = DisjointSet(n)\n",
    "    mst = []\n",
    "    total_cost = 0\n",
    "\n",
    "    for u, v, weight in edges:\n",
    "        if ds.find(u) != ds.find(v):\n",
    "            ds.union(u, v)\n",
    "            mst.append((u, v, weight))\n",
    "            total_cost += weight\n",
    "\n",
    "    return mst, total_cost\n",
    "\n",
    "# Example Graph (Edges with Weights)\n",
    "edges = [\n",
    "    (0, 1, 10), (0, 2, 6), (0, 3, 5),\n",
    "    (1, 3, 15), (2, 3, 4)\n",
    "]\n",
    "n = 4  # Number of nodes\n",
    "\n",
    "mst, cost = kruskal(edges, n)\n",
    "print(\"\\nMinimum Spanning Tree:\", mst)\n",
    "print(\"Total Cost:\", cost)\n"
   ]
  },
  {
   "cell_type": "markdown",
   "id": "c1811bab",
   "metadata": {},
   "source": [
    "###  DAG: Topological Sorting (Kahn’s Algorithm - BFS Based)"
   ]
  },
  {
   "cell_type": "code",
   "execution_count": 9,
   "id": "879fa46d",
   "metadata": {},
   "outputs": [
    {
     "name": "stdout",
     "output_type": "stream",
     "text": [
      "\n",
      "Topological Sorting (Kahn's Algorithm): [0, 1, 2, 3]\n"
     ]
    }
   ],
   "source": [
    "from collections import deque\n",
    "\n",
    "def topological_sort(graph, n):\n",
    "    in_degree = {i: 0 for i in range(n)}\n",
    "    \n",
    "    for node in graph:\n",
    "        for neighbor in graph[node]:\n",
    "            in_degree[neighbor] += 1\n",
    "\n",
    "    queue = deque([node for node in in_degree if in_degree[node] == 0])\n",
    "    topo_order = []\n",
    "\n",
    "    while queue:\n",
    "        node = queue.popleft()\n",
    "        topo_order.append(node)\n",
    "\n",
    "        for neighbor in graph[node]:\n",
    "            in_degree[neighbor] -= 1\n",
    "            if in_degree[neighbor] == 0:\n",
    "                queue.append(neighbor)\n",
    "\n",
    "    return topo_order if len(topo_order) == n else \"Cycle Detected (Not a DAG)\"\n",
    "\n",
    "# Example DAG\n",
    "dag_graph = {\n",
    "    0: [1, 2], 1: [3], 2: [3], 3: []\n",
    "}\n",
    "n = 4  # Number of nodes\n",
    "\n",
    "print(\"\\nTopological Sorting (Kahn's Algorithm):\", topological_sort(dag_graph, n))\n"
   ]
  },
  {
   "cell_type": "code",
   "execution_count": null,
   "id": "a2399879",
   "metadata": {},
   "outputs": [],
   "source": []
  }
 ],
 "metadata": {
  "kernelspec": {
   "display_name": "Python 3 (ipykernel)",
   "language": "python",
   "name": "python3"
  },
  "language_info": {
   "codemirror_mode": {
    "name": "ipython",
    "version": 3
   },
   "file_extension": ".py",
   "mimetype": "text/x-python",
   "name": "python",
   "nbconvert_exporter": "python",
   "pygments_lexer": "ipython3",
   "version": "3.11.3"
  }
 },
 "nbformat": 4,
 "nbformat_minor": 5
}
