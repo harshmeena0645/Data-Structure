{
 "cells": [
  {
   "cell_type": "code",
   "execution_count": 3,
   "id": "ec00686c",
   "metadata": {},
   "outputs": [
    {
     "name": "stdout",
     "output_type": "stream",
     "text": [
      "10 30\n",
      "20 30\n"
     ]
    }
   ],
   "source": [
    "class Node:\n",
    "    def __init__(self,item=None,next=None):\n",
    "        self.item=item\n",
    "        self.next=next\n",
    "class Queue:\n",
    "    def __init__(self):\n",
    "        self.front=None\n",
    "        self.rear=None\n",
    "        self.item_count=0\n",
    "    def is_empty(self):\n",
    "        return self.front==None\n",
    "    def enqueue(self,data):\n",
    "        n=Node(data)\n",
    "        if self.is_empty():\n",
    "            self.front=n\n",
    "        else:\n",
    "            self.rear.next=n\n",
    "        self.rear=n\n",
    "        self.item_count+=1\n",
    "    def dequeue(self):\n",
    "        if self.is_empty():\n",
    "            raise IndexError(\"Empty Queue\")\n",
    "        elif self.front==self.rear:\n",
    "            self.front=None\n",
    "            self.rear=None\n",
    "        else:\n",
    "            self.front=self.front.next\n",
    "        self.item_count-=1\n",
    "    def get_front(self):\n",
    "        if self.is_empty():\n",
    "            raise IndexError(\"No Data in Queue\")\n",
    "        else:\n",
    "            return self.front.item\n",
    "    def get_rear(self):\n",
    "        if self.is_empty():\n",
    "            raise IndexError(\"No Data in Queue\")\n",
    "        else:\n",
    "            return self.rear.item\n",
    "    def size(self):\n",
    "        return self.item_count\n",
    "q1=Queue()\n",
    "q1.enqueue(10)\n",
    "q1.enqueue(20)\n",
    "q1.enqueue(30)\n",
    "print(q1.get_front(),q1.get_rear())\n",
    "q1.dequeue()\n",
    "print(q1.get_front(),q1.get_rear())\n",
    "\n",
    "# Output:\n",
    "#     10 30\n",
    "#     20 30"
   ]
  },
  {
   "cell_type": "code",
   "execution_count": null,
   "id": "826a4405",
   "metadata": {},
   "outputs": [],
   "source": []
  }
 ],
 "metadata": {
  "kernelspec": {
   "display_name": "Python 3 (ipykernel)",
   "language": "python",
   "name": "python3"
  },
  "language_info": {
   "codemirror_mode": {
    "name": "ipython",
    "version": 3
   },
   "file_extension": ".py",
   "mimetype": "text/x-python",
   "name": "python",
   "nbconvert_exporter": "python",
   "pygments_lexer": "ipython3",
   "version": "3.11.3"
  }
 },
 "nbformat": 4,
 "nbformat_minor": 5
}
