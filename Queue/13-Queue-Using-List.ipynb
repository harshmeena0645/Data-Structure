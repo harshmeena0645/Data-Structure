{
 "cells": [
  {
   "cell_type": "markdown",
   "id": "85026301",
   "metadata": {},
   "source": [
    "# Queue\n",
    "LIFO\n",
    "\n",
    "### Operation on Queue\n",
    "Enqueue()                               \n",
    "Dequeue()                          \n",
    "is_empty()                          \n",
    "get_front()                          \n",
    "get_rear()                          \n",
    "size()                          \n",
    "\n",
    "### Real World Example\n",
    "Ticket Counter                          \n",
    "Train Ticket Booking System                          \n",
    "Job Scheduling in OS                           \n",
    "\n",
    "### Implementation of Queue\n",
    "Using list                          \n",
    "Using SLL class                          "
   ]
  },
  {
   "cell_type": "code",
   "execution_count": 4,
   "id": "debbbdf8",
   "metadata": {},
   "outputs": [
    {
     "name": "stdout",
     "output_type": "stream",
     "text": [
      "Queue Underflow\n",
      "Front= 10 Rear= 50\n",
      "Queue has now 4 elements\n"
     ]
    }
   ],
   "source": [
    "class Queue:\n",
    "    def __init__(self):\n",
    "        self.items=[]\n",
    "        self.front=None\n",
    "        self.rear=None\n",
    "    def is_empty(self):\n",
    "        return len(self.items)==0\n",
    "    def enqueue(self,data):\n",
    "        self.items.append(data)\n",
    "    def dequeue(self):\n",
    "        if not self.is_empty():\n",
    "            self.items.pop(0)\n",
    "        else:\n",
    "            raise IndexError(\"Queue Underflow\")\n",
    "    def get_front(self):\n",
    "        if not self.is_empty():\n",
    "            return self.items[0]\n",
    "        else:\n",
    "            raise IndexError(\"Queue Underflow\")\n",
    "    def get_rear(self):\n",
    "        if not self.is_empty():\n",
    "            return self.items[-1]\n",
    "        else:\n",
    "            raise IndexError(\"Queue Underflow\")\n",
    "    def size(self):\n",
    "        return len(self.items)\n",
    "q1=Queue()\n",
    "try:\n",
    "    print(q1.get_front())\n",
    "except IndexError as e:\n",
    "    print(e.args[0])\n",
    "\n",
    "q1.enqueue(10)\n",
    "q1.enqueue(20)\n",
    "q1.enqueue(30)\n",
    "q1.enqueue(40)\n",
    "q1.enqueue(50)\n",
    "print(\"Front=\",q1.get_front(),\"Rear=\",q1.get_rear())\n",
    "try:\n",
    "    q1.dequeue()\n",
    "    print(\"Queue has now\",q1.size(),\"elements\")\n",
    "except IndexError as e:\n",
    "    print(e.args[0])\n",
    "    \n",
    "# Output:\n",
    "#     Queue Underflow\n",
    "#     Front= 10 Rear= 50\n",
    "#     Queue has now 4 elements"
   ]
  },
  {
   "cell_type": "code",
   "execution_count": null,
   "id": "95d1b707",
   "metadata": {},
   "outputs": [],
   "source": []
  }
 ],
 "metadata": {
  "kernelspec": {
   "display_name": "Python 3 (ipykernel)",
   "language": "python",
   "name": "python3"
  },
  "language_info": {
   "codemirror_mode": {
    "name": "ipython",
    "version": 3
   },
   "file_extension": ".py",
   "mimetype": "text/x-python",
   "name": "python",
   "nbconvert_exporter": "python",
   "pygments_lexer": "ipython3",
   "version": "3.11.3"
  }
 },
 "nbformat": 4,
 "nbformat_minor": 5
}
