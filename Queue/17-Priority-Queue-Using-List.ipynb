{
 "cells": [
  {
   "cell_type": "markdown",
   "id": "37c097a0",
   "metadata": {},
   "source": [
    "# Priority Queue\n",
    "A Priority Queue is a special type of queue where elements are dequeued based on their priority rather than their insertion order. The element with the highest (or lowest) priority is served first.\n",
    "### Example of Priority Queue\n",
    "1.Task Scheduling               \n",
    "2.Dijkstra’s Algorithm               \n",
    "3.Emergency Room Management              \n",
    "\n",
    "### Implementation of Priority Queue\n",
    "Using Linked List Concept                \n",
    "Using List              \n",
    "Using Heap          "
   ]
  },
  {
   "cell_type": "code",
   "execution_count": 1,
   "id": "7de84d25",
   "metadata": {},
   "outputs": [
    {
     "name": "stdout",
     "output_type": "stream",
     "text": [
      "Abhi\n",
      "Anjali\n",
      "Amit\n",
      "Aman\n",
      "Ankush\n",
      "Anant\n"
     ]
    }
   ],
   "source": [
    "class Priority_Queue:\n",
    "    def __init__(self):\n",
    "        self.items=[]\n",
    "    def push(self,data,priority):\n",
    "        index=0\n",
    "        while index<len(self.items) and self.items[index][1]<priority:\n",
    "            index+=1\n",
    "        self.items.insert(index,(data,priority))\n",
    "    def is_empty(self):\n",
    "        return len(self.items)==0\n",
    "    def pop(self):\n",
    "            if self.is_empty():\n",
    "                raise IndexError(\"Priority Queue is Empty\")\n",
    "            return self.items.pop(0)[0]\n",
    "    def size(self):\n",
    "        return len(self.items)\n",
    "    \n",
    "p=Priority_Queue()\n",
    "p.push('Amit',4)\n",
    "p.push('Ankush',7)\n",
    "p.push('Anjali',2)\n",
    "p.push('Aman',5)\n",
    "p.push('Anant',8)\n",
    "p.push('Abhi',1)\n",
    "while not p.is_empty():\n",
    "    print(p.pop())\n",
    "\n",
    "# Output:\n",
    "# Abhi\n",
    "# Anjali\n",
    "# Amit\n",
    "# Aman\n",
    "# Ankush\n",
    "# Anant"
   ]
  },
  {
   "cell_type": "code",
   "execution_count": null,
   "id": "bd2ffb27",
   "metadata": {},
   "outputs": [],
   "source": []
  }
 ],
 "metadata": {
  "kernelspec": {
   "display_name": "Python 3 (ipykernel)",
   "language": "python",
   "name": "python3"
  },
  "language_info": {
   "codemirror_mode": {
    "name": "ipython",
    "version": 3
   },
   "file_extension": ".py",
   "mimetype": "text/x-python",
   "name": "python",
   "nbconvert_exporter": "python",
   "pygments_lexer": "ipython3",
   "version": "3.11.3"
  }
 },
 "nbformat": 4,
 "nbformat_minor": 5
}
