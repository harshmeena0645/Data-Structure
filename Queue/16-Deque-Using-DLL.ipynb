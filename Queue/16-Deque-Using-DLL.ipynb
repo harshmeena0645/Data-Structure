{
 "cells": [
  {
   "cell_type": "code",
   "execution_count": 4,
   "id": "26837281",
   "metadata": {},
   "outputs": [
    {
     "name": "stdout",
     "output_type": "stream",
     "text": [
      "20 40\n",
      "4\n",
      "4\n"
     ]
    }
   ],
   "source": [
    "class Node:\n",
    "    def __init__(self,item=None,prev=None,next=None):\n",
    "        self.prev=prev\n",
    "        self.item=item\n",
    "        self.next=next\n",
    "class Deque:\n",
    "    def __init__(self):\n",
    "        self.front=None\n",
    "        self.rear=None\n",
    "        self.item_count=0\n",
    "    def is_empty(self):\n",
    "        return self.item_count==0\n",
    "    def insert_front(self,data):\n",
    "        n=Node(data,None,self.front)\n",
    "        if self.is_empty():\n",
    "            self.rear=n\n",
    "        else:\n",
    "            self.front.prev=n\n",
    "        self.front=n\n",
    "        self.item_count+=1\n",
    "    def insert_rear(self,data):\n",
    "        n=Node(data,self.rear,None)\n",
    "        if self.is_empty():\n",
    "            self.front=n\n",
    "        else:\n",
    "            self.rear.next=n\n",
    "        self.rear=n\n",
    "        self.item_count+=1\n",
    "    def delete_front(self):\n",
    "        if self.is_empty():\n",
    "            raise IndexError(\"Deque is Empty\")\n",
    "        if self.front==self.rear:\n",
    "            self.front=None\n",
    "            self.rear=None\n",
    "        else:\n",
    "            self.front=self.front.next\n",
    "            self.front.prev=None\n",
    "        self.item_count-=1\n",
    "    def delete_rear(self):\n",
    "        if self.is_empty():\n",
    "            raise IndexError(\"Deque is Empty\")\n",
    "        if self.front==self.rear:\n",
    "            self.front=None\n",
    "            self.rear=None\n",
    "        else:\n",
    "            self.rear=self.rear.prev\n",
    "            self.rear.next=None\n",
    "        self.item_count-=1\n",
    "    def get_front(self):\n",
    "        if self.is_empty():\n",
    "            raise IndexError(\"Deque is Empty\")\n",
    "        return self.front.item\n",
    "    def get_rear(self):\n",
    "        if self.is_empty():\n",
    "            raise IndexError(\"Deque is Empty\")\n",
    "        return self.rear.item\n",
    "    def size(self):\n",
    "        return self.item_count\n",
    "\n",
    "d1=Deque()\n",
    "d1.insert_front(10)\n",
    "d1.insert_front(20)\n",
    "d1.insert_rear(30)\n",
    "d1.insert_rear(40)\n",
    "print(d1.get_front(),d1.get_rear())\n",
    "print(d1.item_count)\n",
    "print(d1.size())\n",
    "\n",
    "# Output:\n",
    "# 20 40\n",
    "# 4"
   ]
  },
  {
   "cell_type": "code",
   "execution_count": null,
   "id": "e4959787",
   "metadata": {},
   "outputs": [],
   "source": []
  }
 ],
 "metadata": {
  "kernelspec": {
   "display_name": "Python 3 (ipykernel)",
   "language": "python",
   "name": "python3"
  },
  "language_info": {
   "codemirror_mode": {
    "name": "ipython",
    "version": 3
   },
   "file_extension": ".py",
   "mimetype": "text/x-python",
   "name": "python",
   "nbconvert_exporter": "python",
   "pygments_lexer": "ipython3",
   "version": "3.11.3"
  }
 },
 "nbformat": 4,
 "nbformat_minor": 5
}
