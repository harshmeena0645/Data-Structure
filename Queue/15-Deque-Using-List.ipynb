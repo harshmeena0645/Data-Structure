{
 "cells": [
  {
   "cell_type": "code",
   "execution_count": 5,
   "id": "5c9eb97e",
   "metadata": {},
   "outputs": [
    {
     "name": "stdout",
     "output_type": "stream",
     "text": [
      "20 40\n"
     ]
    }
   ],
   "source": [
    "class Deque:\n",
    "    def __init__(self):\n",
    "        self.items=[]\n",
    "    def is_empty(self):\n",
    "        return len(self.items)==0\n",
    "    def insert_front(self,data):\n",
    "        self.items.insert(0,data)\n",
    "    def insert_rear(self,data):\n",
    "        self.items.append(data)\n",
    "    def delete_front(self):\n",
    "        if self.is_empty():\n",
    "            raise IndexError(\"Deque is Empty\")\n",
    "        else:\n",
    "            return self.items.pop(0)\n",
    "    def delete_rear(self):\n",
    "        if self.is_empty():\n",
    "            raise IndexError(\"Deque is Empty\")\n",
    "        else:\n",
    "            self.items.pop()\n",
    "    def get_front(self):\n",
    "        if self.is_empty():\n",
    "            raise IndexError(\"Deque is Empty\")\n",
    "        else:\n",
    "            return self.items[0]\n",
    "    def get_rear(self):\n",
    "        if self.is_empty():\n",
    "            raise IndexError(\"Deque is Empty\")\n",
    "        else:\n",
    "            return self.items[-1]\n",
    "    def size(self):\n",
    "        return len(self.items)\n",
    "\n",
    "d1=Deque()\n",
    "d1.insert_front(10)\n",
    "d1.insert_front(20)\n",
    "d1.insert_rear(30)\n",
    "d1.insert_rear(40)\n",
    "print(d1.get_front(),d1.get_rear())\n",
    "\n",
    "# Output:\n",
    "# 20 40"
   ]
  },
  {
   "cell_type": "code",
   "execution_count": null,
   "id": "2f0be1fb",
   "metadata": {},
   "outputs": [],
   "source": []
  }
 ],
 "metadata": {
  "kernelspec": {
   "display_name": "Python 3 (ipykernel)",
   "language": "python",
   "name": "python3"
  },
  "language_info": {
   "codemirror_mode": {
    "name": "ipython",
    "version": 3
   },
   "file_extension": ".py",
   "mimetype": "text/x-python",
   "name": "python",
   "nbconvert_exporter": "python",
   "pygments_lexer": "ipython3",
   "version": "3.11.3"
  }
 },
 "nbformat": 4,
 "nbformat_minor": 5
}
