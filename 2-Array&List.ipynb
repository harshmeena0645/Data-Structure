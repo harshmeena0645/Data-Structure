{
 "cells": [
  {
   "cell_type": "markdown",
   "id": "b42bca6b-7433-454a-b851-d4f12f8fa1ee",
   "metadata": {},
   "source": [
    "Relation in data then make --> Array                      \n",
    "Not Relation b/w data --> Variables               "
   ]
  },
  {
   "cell_type": "markdown",
   "id": "fc6e1747-2c79-494f-9897-d32f3bdb225d",
   "metadata": {},
   "source": [
    "# Array & List\n",
    "array is not build-in data structure in python\n",
    "\n",
    "--> You want to perform mathematical calculation then use -- NumPy otherwise List"
   ]
  },
  {
   "cell_type": "markdown",
   "id": "33751387-7088-4f95-ac0d-eba65e823c2c",
   "metadata": {},
   "source": [
    "# Array\n",
    "int,float,char                                           \n",
    "Array can have elements of limited types                \n",
    "--> Collection of same type elements               \n",
    "--> fixed size                \n",
    "--> indexed                     "
   ]
  },
  {
   "cell_type": "markdown",
   "id": "2536c019-c1e4-4906-aad7-2c2803688bea",
   "metadata": {},
   "source": [
    "# Creating Array\n",
    "from array import  *                                       \n",
    "a = array(type code , [ elements ])                                         \n",
    "a = array('i', [1,2,3,4,5])                    "
   ]
  },
  {
   "cell_type": "markdown",
   "id": "455a8de4-f2b6-44e1-b5d2-889a122f8d52",
   "metadata": {},
   "source": [
    "# Array Method\n",
    "append()                         \n",
    "count()                          \n",
    "extend()                    \n",
    "fromlist()               \n",
    "index()                \n",
    "insert()                \n",
    "pop()                 \n",
    "remove()                \n",
    "reverse()                \n",
    "tolist()                     "
   ]
  },
  {
   "cell_type": "code",
   "execution_count": null,
   "id": "0ae0bac4-9ea2-4e72-9e14-a5f7a26245de",
   "metadata": {},
   "outputs": [],
   "source": []
  }
 ],
 "metadata": {
  "kernelspec": {
   "display_name": "Python 3 (ipykernel)",
   "language": "python",
   "name": "python3"
  },
  "language_info": {
   "codemirror_mode": {
    "name": "ipython",
    "version": 3
   },
   "file_extension": ".py",
   "mimetype": "text/x-python",
   "name": "python",
   "nbconvert_exporter": "python",
   "pygments_lexer": "ipython3",
   "version": "3.11.3"
  }
 },
 "nbformat": 4,
 "nbformat_minor": 5
}
